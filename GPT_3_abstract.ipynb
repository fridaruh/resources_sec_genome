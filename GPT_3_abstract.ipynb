{
  "nbformat": 4,
  "nbformat_minor": 0,
  "metadata": {
    "colab": {
      "provenance": [],
      "authorship_tag": "ABX9TyNIjEQcxupu/ZiJ4uvm+gnj",
      "include_colab_link": true
    },
    "kernelspec": {
      "name": "python3",
      "display_name": "Python 3"
    },
    "language_info": {
      "name": "python"
    }
  },
  "cells": [
    {
      "cell_type": "markdown",
      "metadata": {
        "id": "view-in-github",
        "colab_type": "text"
      },
      "source": [
        "<a href=\"https://colab.research.google.com/github/fridaruh/resources_sec_genome/blob/master/GPT_3_abstract.ipynb\" target=\"_parent\"><img src=\"https://colab.research.google.com/assets/colab-badge.svg\" alt=\"Open In Colab\"/></a>"
      ]
    },
    {
      "cell_type": "code",
      "source": [
        "import pandas as pd"
      ],
      "metadata": {
        "id": "KcxYd73w-Du8"
      },
      "execution_count": null,
      "outputs": []
    },
    {
      "cell_type": "code",
      "source": [
        "!pip install openai"
      ],
      "metadata": {
        "colab": {
          "base_uri": "https://localhost:8080/"
        },
        "id": "yXr4rLaZDAc0",
        "outputId": "877d2f00-44a8-4a10-a35a-f9a8ec84487a"
      },
      "execution_count": 10,
      "outputs": [
        {
          "output_type": "stream",
          "name": "stdout",
          "text": [
            "Looking in indexes: https://pypi.org/simple, https://us-python.pkg.dev/colab-wheels/public/simple/\n",
            "Collecting openai\n",
            "  Downloading openai-0.25.0.tar.gz (44 kB)\n",
            "\u001b[K     |████████████████████████████████| 44 kB 2.9 MB/s \n",
            "\u001b[?25h  Installing build dependencies ... \u001b[?25l\u001b[?25hdone\n",
            "  Getting requirements to build wheel ... \u001b[?25l\u001b[?25hdone\n",
            "    Preparing wheel metadata ... \u001b[?25l\u001b[?25hdone\n",
            "Requirement already satisfied: requests>=2.20 in /usr/local/lib/python3.8/dist-packages (from openai) (2.23.0)\n",
            "Requirement already satisfied: numpy in /usr/local/lib/python3.8/dist-packages (from openai) (1.21.6)\n",
            "Requirement already satisfied: tqdm in /usr/local/lib/python3.8/dist-packages (from openai) (4.64.1)\n",
            "Collecting pandas-stubs>=1.1.0.11\n",
            "  Downloading pandas_stubs-1.5.2.221213-py3-none-any.whl (147 kB)\n",
            "\u001b[K     |████████████████████████████████| 147 kB 53.9 MB/s \n",
            "\u001b[?25hRequirement already satisfied: typing-extensions in /usr/local/lib/python3.8/dist-packages (from openai) (4.4.0)\n",
            "Requirement already satisfied: pandas>=1.2.3 in /usr/local/lib/python3.8/dist-packages (from openai) (1.3.5)\n",
            "Requirement already satisfied: openpyxl>=3.0.7 in /usr/local/lib/python3.8/dist-packages (from openai) (3.0.10)\n",
            "Requirement already satisfied: et-xmlfile in /usr/local/lib/python3.8/dist-packages (from openpyxl>=3.0.7->openai) (1.1.0)\n",
            "Requirement already satisfied: pytz>=2017.3 in /usr/local/lib/python3.8/dist-packages (from pandas>=1.2.3->openai) (2022.6)\n",
            "Requirement already satisfied: python-dateutil>=2.7.3 in /usr/local/lib/python3.8/dist-packages (from pandas>=1.2.3->openai) (2.8.2)\n",
            "Collecting types-pytz>=2022.1.1\n",
            "  Downloading types_pytz-2022.7.0.0-py3-none-any.whl (4.7 kB)\n",
            "Requirement already satisfied: six>=1.5 in /usr/local/lib/python3.8/dist-packages (from python-dateutil>=2.7.3->pandas>=1.2.3->openai) (1.15.0)\n",
            "Requirement already satisfied: certifi>=2017.4.17 in /usr/local/lib/python3.8/dist-packages (from requests>=2.20->openai) (2022.12.7)\n",
            "Requirement already satisfied: chardet<4,>=3.0.2 in /usr/local/lib/python3.8/dist-packages (from requests>=2.20->openai) (3.0.4)\n",
            "Requirement already satisfied: urllib3!=1.25.0,!=1.25.1,<1.26,>=1.21.1 in /usr/local/lib/python3.8/dist-packages (from requests>=2.20->openai) (1.24.3)\n",
            "Requirement already satisfied: idna<3,>=2.5 in /usr/local/lib/python3.8/dist-packages (from requests>=2.20->openai) (2.10)\n",
            "Building wheels for collected packages: openai\n",
            "  Building wheel for openai (PEP 517) ... \u001b[?25l\u001b[?25hdone\n",
            "  Created wheel for openai: filename=openai-0.25.0-py3-none-any.whl size=55880 sha256=c9d4cc255f619ecd022b59081b868a359c857ff6b049c5c6b3518bbc5a4efc74\n",
            "  Stored in directory: /root/.cache/pip/wheels/4b/92/33/6f57c7aae0b16875267999a50570e81f15eecec577ebe05a2e\n",
            "Successfully built openai\n",
            "Installing collected packages: types-pytz, pandas-stubs, openai\n",
            "Successfully installed openai-0.25.0 pandas-stubs-1.5.2.221213 types-pytz-2022.7.0.0\n"
          ]
        }
      ]
    },
    {
      "cell_type": "markdown",
      "source": [
        "# Pocket [WIP]"
      ],
      "metadata": {
        "id": "Omy3Li6YHgPj"
      }
    },
    {
      "cell_type": "code",
      "source": [
        "!pip install Pocket"
      ],
      "metadata": {
        "id": "19dyNxtq_m1B",
        "colab": {
          "base_uri": "https://localhost:8080/"
        },
        "outputId": "64e852b0-f5a8-4560-a05d-8fbdc802bcc1"
      },
      "execution_count": 11,
      "outputs": [
        {
          "output_type": "stream",
          "name": "stdout",
          "text": [
            "Looking in indexes: https://pypi.org/simple, https://us-python.pkg.dev/colab-wheels/public/simple/\n",
            "Collecting Pocket\n",
            "  Downloading pocket-0.3.6.zip (5.1 kB)\n",
            "Requirement already satisfied: requests in /usr/local/lib/python3.8/dist-packages (from Pocket) (2.23.0)\n",
            "Requirement already satisfied: certifi>=2017.4.17 in /usr/local/lib/python3.8/dist-packages (from requests->Pocket) (2022.12.7)\n",
            "Requirement already satisfied: idna<3,>=2.5 in /usr/local/lib/python3.8/dist-packages (from requests->Pocket) (2.10)\n",
            "Requirement already satisfied: urllib3!=1.25.0,!=1.25.1,<1.26,>=1.21.1 in /usr/local/lib/python3.8/dist-packages (from requests->Pocket) (1.24.3)\n",
            "Requirement already satisfied: chardet<4,>=3.0.2 in /usr/local/lib/python3.8/dist-packages (from requests->Pocket) (3.0.4)\n",
            "Building wheels for collected packages: Pocket\n",
            "  Building wheel for Pocket (setup.py) ... \u001b[?25l\u001b[?25hdone\n",
            "  Created wheel for Pocket: filename=pocket-0.3.6-py3-none-any.whl size=3944 sha256=b76862e98ba91bba17822332691293cbf6d5a41a60f3c46e7876fad2f3e7491c\n",
            "  Stored in directory: /root/.cache/pip/wheels/64/14/20/ec81a09d88e468c3a83e28b146f5c8809a59b08e86fd3070ee\n",
            "Successfully built Pocket\n",
            "Installing collected packages: Pocket\n",
            "Successfully installed Pocket-0.3.6\n"
          ]
        }
      ]
    },
    {
      "cell_type": "code",
      "source": [
        "from pocket import Pocket"
      ],
      "metadata": {
        "id": "Ez3nzjJvEi53"
      },
      "execution_count": 12,
      "outputs": []
    },
    {
      "cell_type": "code",
      "source": [
        "request_token = Pocket.get_request_token(consumer_key='105127-df7da5b060b9603b5b244ce', redirect_uri='https://getpocket.com/@e83p0T43Aa99eda01ag29d6g7cd1AR6054dS3fwb5bl96eZ11b1e8fe0E82OTc90')"
      ],
      "metadata": {
        "id": "Vfvz5F1rEqX_"
      },
      "execution_count": 19,
      "outputs": []
    },
    {
      "cell_type": "code",
      "source": [
        "auth_url = Pocket.get_auth_url(code=request_token, redirect_uri='https://getpocket.com/@e83p0T43Aa99eda01ag29d6g7cd1AR6054dS3fwb5bl96eZ11b1e8fe0E82OTc90')"
      ],
      "metadata": {
        "id": "iVNOtP6MFCy4"
      },
      "execution_count": 21,
      "outputs": []
    },
    {
      "cell_type": "code",
      "source": [
        "user_credentials = Pocket.get_credentials(consumer_key='105127-df7da5b060b9603b5b244ce', code=request_token)"
      ],
      "metadata": {
        "colab": {
          "base_uri": "https://localhost:8080/",
          "height": 346
        },
        "id": "TQHECgAWHEzn",
        "outputId": "3f0678de-f16e-419c-8e6e-705d3a30f500"
      },
      "execution_count": 23,
      "outputs": [
        {
          "output_type": "error",
          "ename": "RateLimitException",
          "evalue": "ignored",
          "traceback": [
            "\u001b[0;31m---------------------------------------------------------------------------\u001b[0m",
            "\u001b[0;31mRateLimitException\u001b[0m                        Traceback (most recent call last)",
            "\u001b[0;32m<ipython-input-23-6aea2318f879>\u001b[0m in \u001b[0;36m<module>\u001b[0;34m\u001b[0m\n\u001b[0;32m----> 1\u001b[0;31m \u001b[0muser_credentials\u001b[0m \u001b[0;34m=\u001b[0m \u001b[0mPocket\u001b[0m\u001b[0;34m.\u001b[0m\u001b[0mget_credentials\u001b[0m\u001b[0;34m(\u001b[0m\u001b[0mconsumer_key\u001b[0m\u001b[0;34m=\u001b[0m\u001b[0;34m'105127-df7da5b060b9603b5b244ce'\u001b[0m\u001b[0;34m,\u001b[0m \u001b[0mcode\u001b[0m\u001b[0;34m=\u001b[0m\u001b[0mrequest_token\u001b[0m\u001b[0;34m)\u001b[0m\u001b[0;34m\u001b[0m\u001b[0;34m\u001b[0m\u001b[0m\n\u001b[0m",
            "\u001b[0;32m/usr/local/lib/python3.8/dist-packages/pocket.py\u001b[0m in \u001b[0;36mget_credentials\u001b[0;34m(cls, consumer_key, code)\u001b[0m\n\u001b[1;32m    334\u001b[0m         }\n\u001b[1;32m    335\u001b[0m \u001b[0;34m\u001b[0m\u001b[0m\n\u001b[0;32m--> 336\u001b[0;31m         \u001b[0;32mreturn\u001b[0m \u001b[0mcls\u001b[0m\u001b[0;34m.\u001b[0m\u001b[0m_make_request\u001b[0m\u001b[0;34m(\u001b[0m\u001b[0murl\u001b[0m\u001b[0;34m,\u001b[0m \u001b[0mpayload\u001b[0m\u001b[0;34m,\u001b[0m \u001b[0mheaders\u001b[0m\u001b[0;34m)\u001b[0m\u001b[0;34m[\u001b[0m\u001b[0;36m0\u001b[0m\u001b[0;34m]\u001b[0m\u001b[0;34m\u001b[0m\u001b[0;34m\u001b[0m\u001b[0m\n\u001b[0m\u001b[1;32m    337\u001b[0m \u001b[0;34m\u001b[0m\u001b[0m\n\u001b[1;32m    338\u001b[0m     \u001b[0;34m@\u001b[0m\u001b[0mclassmethod\u001b[0m\u001b[0;34m\u001b[0m\u001b[0;34m\u001b[0m\u001b[0m\n",
            "\u001b[0;32m/usr/local/lib/python3.8/dist-packages/pocket.py\u001b[0m in \u001b[0;36m_make_request\u001b[0;34m(cls, url, payload, headers)\u001b[0m\n\u001b[1;32m    144\u001b[0m             \u001b[0merror_msg\u001b[0m \u001b[0;34m=\u001b[0m \u001b[0mcls\u001b[0m\u001b[0;34m.\u001b[0m\u001b[0mstatuses\u001b[0m\u001b[0;34m.\u001b[0m\u001b[0mget\u001b[0m\u001b[0;34m(\u001b[0m\u001b[0mr\u001b[0m\u001b[0;34m.\u001b[0m\u001b[0mstatus_code\u001b[0m\u001b[0;34m)\u001b[0m\u001b[0;34m\u001b[0m\u001b[0;34m\u001b[0m\u001b[0m\n\u001b[1;32m    145\u001b[0m             \u001b[0mextra_info\u001b[0m \u001b[0;34m=\u001b[0m \u001b[0mr\u001b[0m\u001b[0;34m.\u001b[0m\u001b[0mheaders\u001b[0m\u001b[0;34m.\u001b[0m\u001b[0mget\u001b[0m\u001b[0;34m(\u001b[0m\u001b[0;34m'X-Error'\u001b[0m\u001b[0;34m)\u001b[0m\u001b[0;34m\u001b[0m\u001b[0;34m\u001b[0m\u001b[0m\n\u001b[0;32m--> 146\u001b[0;31m             raise EXCEPTIONS.get(r.status_code, PocketException)(\n\u001b[0m\u001b[1;32m    147\u001b[0m                 \u001b[0;34m'%s. %s'\u001b[0m \u001b[0;34m%\u001b[0m \u001b[0;34m(\u001b[0m\u001b[0merror_msg\u001b[0m\u001b[0;34m,\u001b[0m \u001b[0mextra_info\u001b[0m\u001b[0;34m)\u001b[0m\u001b[0;34m\u001b[0m\u001b[0;34m\u001b[0m\u001b[0m\n\u001b[1;32m    148\u001b[0m             )\n",
            "\u001b[0;31mRateLimitException\u001b[0m: User was authenticated, but access denied due to lack of permission or rate limiting. User rejected code."
          ]
        }
      ]
    },
    {
      "cell_type": "markdown",
      "source": [
        "# GPT"
      ],
      "metadata": {
        "id": "SVFKQniVHmoJ"
      }
    },
    {
      "cell_type": "code",
      "source": [
        "import os\n",
        "import openai"
      ],
      "metadata": {
        "id": "r0z2AIJXHPIA"
      },
      "execution_count": 24,
      "outputs": []
    },
    {
      "cell_type": "code",
      "source": [
        "openai.api_key = ''"
      ],
      "metadata": {
        "id": "U4X8qz5NJYxZ"
      },
      "execution_count": 39,
      "outputs": []
    },
    {
      "cell_type": "markdown",
      "source": [
        "# Testing"
      ],
      "metadata": {
        "id": "al6RrJMrVRfY"
      }
    },
    {
      "cell_type": "code",
      "source": [
        "texto_1 = \"\"\"\n",
        "La empresa Colossal Biosciences se describe a sí misma como una \"compañía innovadora de biociencia e ingeniería genética\" que está \"aceptando el deber de la humanidad de restaurar la Tierra a un estado más saludable, al mismo tiempo que resuelve las economías futuras y las necesidades biológicas de la condición humana a través de ciencia y tecnologías de vanguardia\".\n",
        "\n",
        "El ambicioso proyecto denominado “Des-Extinción”, tiene como principal objetivo desarrollar una biblioteca de animales de extinción, así como albergar ADN genético o embriones de animales en peligro de extinción o ya extintos. Este proceso reducirá los impactos a largo plazo de la pérdida de biodiversidad inducida por el hombre y brindará a las especies amenazadas un amortiguador contra la extinción total a medida que disminuyen los números.\n",
        "\n",
        "Colossal producirá su primer grupo de crías híbridas de elefante y mamut en cuatro a seis años. A largo plazo, el plan es reintroducir grandes manadas de mamuts en el Ártico.\n",
        "Y aunque parezca una película de ciencia ficción, la empresa cree que es muy posible revivir al mamut lanudo, animales que prosperaron en las tundras frías de Europa, Asía y América del Norte, o al menos a una especie muy similar. Los investigadores lograron secuenciar el genoma de 23 elefantes asiáticos, el pariente vivo más cercano a los mamuts lanudos. Eriona Hysolli, científica biológica principal de Colossal, también extrajo y analizó el ADN de un mamut caracas bien conservado que se encuentra en el permafrost de Siberia.\n",
        "\n",
        "Los científicos aún no saben qué causó la extinción de estos animales gigantes adaptados pero sí que hace unos 10.000 años las poblaciones comenzaron a decrecer desapareciendo por completo hace aproximadamente 4.000 años.\n",
        "“Prácticamente logramos completar el ensamblaje de los más de 60 genes que esencialmente harían que el genoma de un elefante sea funcionalmente similar al de un mamut lanudo”, dijo el Dr. Lamm, miembro del equipo. “Esos son los atributos fenotípicos: mazorcas pequeñas para bajas temperaturas; hemoglobina tolerante al frío; 10 centímetros de grasa parda; y, por supuesto, lo que la mayoría de la gente conoce y ama, ese abrigo peludo y desgreñado”.\n",
        "\"\"\""
      ],
      "metadata": {
        "id": "79hrISawLmgJ"
      },
      "execution_count": 69,
      "outputs": []
    },
    {
      "cell_type": "code",
      "source": [
        "what= \"Get very short abstract in spanish of this text:\"+texto_1"
      ],
      "metadata": {
        "id": "fsF8E1IbLLaW"
      },
      "execution_count": 73,
      "outputs": []
    },
    {
      "cell_type": "code",
      "source": [
        "response = openai.Completion.create(model=\"text-davinci-003\", prompt=what, temperature=0, max_tokens=100)"
      ],
      "metadata": {
        "id": "JjPdbeaqH8mx"
      },
      "execution_count": 74,
      "outputs": []
    },
    {
      "cell_type": "code",
      "source": [
        "response.choices[0].text\n"
      ],
      "metadata": {
        "colab": {
          "base_uri": "https://localhost:8080/",
          "height": 70
        },
        "id": "imppfYClIAAX",
        "outputId": "c8017140-017a-4053-d954-a31ba5960ee8"
      },
      "execution_count": 75,
      "outputs": [
        {
          "output_type": "execute_result",
          "data": {
            "text/plain": [
              "'\\nColossal Biosciences es una empresa innovadora de biociencia e ingeniería genética que busca restaurar la Tierra a un estado más saludable, al mismo tiempo que resuelve las economías futuras y las necesidades biológicas de la condición humana a través de ciencia y tecnologías de vanguardia. Su pro'"
            ],
            "application/vnd.google.colaboratory.intrinsic+json": {
              "type": "string"
            }
          },
          "metadata": {},
          "execution_count": 75
        }
      ]
    },
    {
      "cell_type": "code",
      "source": [
        "why = 'Answer very shortly in spanish why is important this text:'+texto_1"
      ],
      "metadata": {
        "id": "ZQQR0yPfMJXF"
      },
      "execution_count": 79,
      "outputs": []
    },
    {
      "cell_type": "code",
      "source": [
        "response = openai.Completion.create(model=\"text-davinci-003\", prompt=why, temperature=0, max_tokens=100)"
      ],
      "metadata": {
        "id": "btWxc3g_J6er"
      },
      "execution_count": 80,
      "outputs": []
    },
    {
      "cell_type": "code",
      "source": [
        "response.choices[0].text"
      ],
      "metadata": {
        "colab": {
          "base_uri": "https://localhost:8080/",
          "height": 70
        },
        "id": "SrZURB5PMVJp",
        "outputId": "5ff97ac0-36c0-497d-f5a7-06743b554ff2"
      },
      "execution_count": 81,
      "outputs": [
        {
          "output_type": "execute_result",
          "data": {
            "text/plain": [
              "'\\nEs importante este texto porque explica cómo la empresa Colossal Biosciences está trabajando para restaurar la Tierra a un estado más saludable y para reducir los impactos a largo plazo de la pérdida de biodiversidad inducida por el hombre. Además, explica cómo los científicos están tratando de rev'"
            ],
            "application/vnd.google.colaboratory.intrinsic+json": {
              "type": "string"
            }
          },
          "metadata": {},
          "execution_count": 81
        }
      ]
    },
    {
      "cell_type": "markdown",
      "source": [
        "# Iteración"
      ],
      "metadata": {
        "id": "vu0lJEPGVODu"
      }
    },
    {
      "cell_type": "code",
      "source": [
        "import openpyxl"
      ],
      "metadata": {
        "id": "NYk8ZD_LQnYG"
      },
      "execution_count": 84,
      "outputs": []
    },
    {
      "cell_type": "code",
      "source": [
        "workbook = openpyxl.load_workbook('/content/texto_gpt.xlsx')"
      ],
      "metadata": {
        "id": "1GGcEQgGQodQ"
      },
      "execution_count": 92,
      "outputs": []
    },
    {
      "cell_type": "code",
      "source": [
        "worksheet = workbook.active"
      ],
      "metadata": {
        "id": "KzZ75F70MXxB"
      },
      "execution_count": 93,
      "outputs": []
    },
    {
      "cell_type": "code",
      "source": [
        "for row in worksheet.iter_rows(min_row=1, max_row=worksheet.max_row, min_col=1, max_col=1):\n",
        "    cell = row[0]\n",
        "    text = str(cell.value)\n",
        "    what= \"Get very short abstract in spanish of this text:\"+text\n",
        "    why = 'Answer very shortly in spanish why is important this text:'+text\n",
        "\n",
        "\n",
        "    # Usar GPT-3 para generar un resumen del texto\n",
        "    response = openai.Completion.create(model=\"text-davinci-003\", prompt=what, temperature=0, max_tokens=100)\n",
        "    summary = response.choices[0].text\n",
        "\n",
        "    # Escribir el resumen en la columna \"B\"\n",
        "    worksheet.cell(row=cell.row, column=2).value = summary\n",
        "\n",
        "    # Usar GPT-3 para generar un why del texto\n",
        "    response_2 = openai.Completion.create(model=\"text-davinci-003\", prompt=why, temperature=0, max_tokens=100)\n",
        "    whats = response_2.choices[0].text\n",
        "\n",
        "    # Escribir el resumen en la columna \"B\"\n",
        "    worksheet.cell(row=cell.row, column=3).value = whats\n",
        "\n",
        "\n",
        "# Guardar los cambios en el archivo de la hoja de cálculo\n",
        "workbook.save('/content/texto_gpt.xlsx')"
      ],
      "metadata": {
        "id": "c63Vf0iPQ7vR"
      },
      "execution_count": 94,
      "outputs": []
    },
    {
      "cell_type": "code",
      "source": [],
      "metadata": {
        "id": "rtjKnBMOUXzk"
      },
      "execution_count": null,
      "outputs": []
    }
  ]
}